{
  "nbformat": 4,
  "nbformat_minor": 0,
  "metadata": {
    "colab": {
      "name": "module --5",
      "provenance": [],
      "authorship_tag": "ABX9TyP3oIO/ET4RSEUTFjkVGu79",
      "include_colab_link": true
    },
    "kernelspec": {
      "name": "python3",
      "display_name": "Python 3"
    },
    "language_info": {
      "name": "python"
    }
  },
  "cells": [
    {
      "cell_type": "markdown",
      "metadata": {
        "id": "view-in-github",
        "colab_type": "text"
      },
      "source": [
        "<a href=\"https://colab.research.google.com/github/anitha200/python-new/blob/main/module_5.ipynb\" target=\"_parent\"><img src=\"https://colab.research.google.com/assets/colab-badge.svg\" alt=\"Open In Colab\"/></a>"
      ]
    },
    {
      "cell_type": "code",
      "execution_count": 1,
      "metadata": {
        "colab": {
          "base_uri": "https://localhost:8080/"
        },
        "id": "fW-ymHaUKdcP",
        "outputId": "558aa660-7269-4b75-90bd-1808d7f28983"
      },
      "outputs": [
        {
          "output_type": "stream",
          "name": "stdout",
          "text": [
            "[]\n"
          ]
        }
      ],
      "source": [
        "## Reg Ex in python\n",
        "import re\n",
        "\n",
        "txt = \"The rain in Spain\"\n",
        "x = re.findall(\"Portugal\", txt)\n",
        "print(x)"
      ]
    },
    {
      "cell_type": "code",
      "source": [
        "import re\n",
        "\n",
        "txt = \"The rain in Spain\"\n",
        "x = re.search(\"\\s\", txt)\n",
        "\n",
        "print(\"The first white-space character is located in position:\", x.start())"
      ],
      "metadata": {
        "colab": {
          "base_uri": "https://localhost:8080/"
        },
        "id": "i5xGFHtpKmWN",
        "outputId": "df9c01ab-08c0-472d-e29d-95548a1eb217"
      },
      "execution_count": 2,
      "outputs": [
        {
          "output_type": "stream",
          "name": "stdout",
          "text": [
            "The first white-space character is located in position: 3\n"
          ]
        }
      ]
    },
    {
      "cell_type": "code",
      "source": [
        "import re\n",
        "\n",
        "txt = \"The rain in Spain\"\n",
        "x = re.search(\"Portugal\", txt)\n",
        "print(x)"
      ],
      "metadata": {
        "colab": {
          "base_uri": "https://localhost:8080/"
        },
        "id": "mIr01bJ3Kr6P",
        "outputId": "2e0f2654-76ba-478d-d1ce-571b14b2d7f8"
      },
      "execution_count": 3,
      "outputs": [
        {
          "output_type": "stream",
          "name": "stdout",
          "text": [
            "None\n"
          ]
        }
      ]
    },
    {
      "cell_type": "code",
      "source": [
        "## split at each white space character\n",
        "import re\n",
        "\n",
        "txt = \"The rain in Spain\"\n",
        "x = re.split(\"\\s\", txt)\n",
        "print(x)"
      ],
      "metadata": {
        "colab": {
          "base_uri": "https://localhost:8080/"
        },
        "id": "X7Ovla0qKzII",
        "outputId": "df7f7bd6-c272-4675-a5e5-ee766c06ec2a"
      },
      "execution_count": 5,
      "outputs": [
        {
          "output_type": "stream",
          "name": "stdout",
          "text": [
            "['The', 'rain', 'in', 'Spain']\n"
          ]
        }
      ]
    },
    {
      "cell_type": "code",
      "source": [
        "import re \n",
        "text = \"hi i want to go to movie\"\n",
        "x = re.search (\"go\",txt)\n",
        "if x:\n",
        "  print(\"YES! We have a match!\")\n",
        "else:\n",
        "  print(\"No match\")"
      ],
      "metadata": {
        "colab": {
          "base_uri": "https://localhost:8080/"
        },
        "id": "wJ-n1gttK9Jc",
        "outputId": "ae148c99-4178-40ac-db6d-3f47803fc094"
      },
      "execution_count": 6,
      "outputs": [
        {
          "output_type": "stream",
          "name": "stdout",
          "text": [
            "No match\n"
          ]
        }
      ]
    },
    {
      "cell_type": "code",
      "source": [
        "## find all\n",
        "import re\n",
        "text = \"hi i want to go to movie\"\n",
        "x = re.findall(\"i\", txt)\n",
        "print(x)"
      ],
      "metadata": {
        "colab": {
          "base_uri": "https://localhost:8080/"
        },
        "id": "JmH1GbJWLHDs",
        "outputId": "08968263-68df-423d-f88e-4def22e27d1a"
      },
      "execution_count": 10,
      "outputs": [
        {
          "output_type": "stream",
          "name": "stdout",
          "text": [
            "['i', 'i', 'i']\n"
          ]
        }
      ]
    },
    {
      "cell_type": "code",
      "source": [
        "## sub function\n",
        "import re\n",
        "txt =  \"my name is anithaa and i am studying  1st year cse in gitam unversity \"\n",
        "x = re.sub(\"\\s\", \"9\", txt)\n",
        "print(x)"
      ],
      "metadata": {
        "colab": {
          "base_uri": "https://localhost:8080/"
        },
        "id": "E2ach_lKLkdc",
        "outputId": "31f4883f-3b37-40fe-8d11-19a581978bb7"
      },
      "execution_count": 12,
      "outputs": [
        {
          "output_type": "stream",
          "name": "stdout",
          "text": [
            "my9name9is9anithaa9and9i9am9studying991st9year9cse9in9gitam9unversity9\n"
          ]
        }
      ]
    },
    {
      "cell_type": "code",
      "source": [
        "## #Replace the first two occurrences of a white-space character with the digit 9:\n",
        "import re\n",
        "text =  \"my name is anithaa and i am studying  1st year cse in gitam unversity\"\n",
        "x = re.sub(\"\\s\", \"9\", txt, 2)\n",
        "print(x)"
      ],
      "metadata": {
        "colab": {
          "base_uri": "https://localhost:8080/"
        },
        "id": "X7iwufDOLsRQ",
        "outputId": "297273c8-6a85-4238-a4c3-5e97d12f6768"
      },
      "execution_count": 14,
      "outputs": [
        {
          "output_type": "stream",
          "name": "stdout",
          "text": [
            "my9name9is anithaa and i am studying  1st year cse in gitam unversity \n"
          ]
        }
      ]
    },
    {
      "cell_type": "code",
      "source": [
        "# Meta characters\n",
        "## Check if the string starts with 'hello':\n",
        "import re\n",
        "txt = \"Venezuela has a crime index of 77.76, the highest of any country in the world.\"\n",
        "x = re.findall(\"^hello\", txt)\n",
        "if x:\n",
        "  print(\"Yes, the string starts with 'hello'\")\n",
        "else:\n",
        "  print(\"No match\")"
      ],
      "metadata": {
        "colab": {
          "base_uri": "https://localhost:8080/"
        },
        "id": "2w-zm3ltL1Bs",
        "outputId": "59d66b35-7ec6-40fd-9149-6ecd2bea00ef"
      },
      "execution_count": 17,
      "outputs": [
        {
          "output_type": "stream",
          "name": "stdout",
          "text": [
            "No match\n"
          ]
        }
      ]
    },
    {
      "cell_type": "code",
      "source": [
        "#Find all lower case characters alphabetically between \"a\" and \"m\":\n",
        "import re\n",
        "txt = \"Venezuela has a crime index of 73.76, the highest of any country in the world.\"\n",
        "x = re.findall(\"[a-m]\", txt)\n",
        "print(x)"
      ],
      "metadata": {
        "colab": {
          "base_uri": "https://localhost:8080/"
        },
        "id": "oI4Z718SL8iy",
        "outputId": "71f64b02-1623-49eb-c30a-d268cc47fb00"
      },
      "execution_count": 19,
      "outputs": [
        {
          "output_type": "stream",
          "name": "stdout",
          "text": [
            "['e', 'e', 'e', 'l', 'a', 'h', 'a', 'a', 'c', 'i', 'm', 'e', 'i', 'd', 'e', 'f', 'h', 'e', 'h', 'i', 'g', 'h', 'e', 'f', 'a', 'c', 'i', 'h', 'e', 'l', 'd']\n"
          ]
        }
      ]
    },
    {
      "cell_type": "code",
      "source": [
        "## find all digit characters\n",
        "import re\n",
        "txt = \"Venezuela has a crime index of 73.76, the highest of any country in the world.\"\n",
        "x = re.findall(\"\\d\", txt)\n",
        "print(x)"
      ],
      "metadata": {
        "colab": {
          "base_uri": "https://localhost:8080/"
        },
        "id": "Da8nCxyuMEGp",
        "outputId": "58ff93b3-2fe8-4e23-978f-d0a8f80f32e5"
      },
      "execution_count": 21,
      "outputs": [
        {
          "output_type": "stream",
          "name": "stdout",
          "text": [
            "['7', '3', '7', '6']\n"
          ]
        }
      ]
    },
    {
      "cell_type": "code",
      "source": [
        "#Search for a sequence that starts with \"he\", followed by two (any) characters, and an \"o\":\n",
        "import re\n",
        "txt = \"anitha\"\n",
        "x = re.findall(\"an..ha\", txt)\n",
        "print(x)"
      ],
      "metadata": {
        "colab": {
          "base_uri": "https://localhost:8080/"
        },
        "id": "tinqzYNSMNST",
        "outputId": "4da13e38-5d66-43b0-b3a5-19c14a3bc2f8"
      },
      "execution_count": 23,
      "outputs": [
        {
          "output_type": "stream",
          "name": "stdout",
          "text": [
            "['anitha']\n"
          ]
        }
      ]
    },
    {
      "cell_type": "code",
      "source": [
        "#Check if the string ends with 'planet':\n",
        "import re\n",
        "txt = \"hello planet\"\n",
        "x = re.findall(\"planet$\", txt)\n",
        "if x:\n",
        "  print(\"Yes, the string ends with 'planet'\")\n",
        "else:\n",
        "  print(\"No match\")"
      ],
      "metadata": {
        "colab": {
          "base_uri": "https://localhost:8080/"
        },
        "id": "c11HCvO_MU4u",
        "outputId": "439d7070-fcb9-47ab-f38b-bef44d3452a9"
      },
      "execution_count": 26,
      "outputs": [
        {
          "output_type": "stream",
          "name": "stdout",
          "text": [
            "Yes, the string ends with 'planet'\n"
          ]
        }
      ]
    },
    {
      "cell_type": "code",
      "source": [
        "#Check if the string ends with 'planet':\n",
        "import re\n",
        "txt = \"hello planet\"\n",
        "x = re.findall(\"planet$\", txt)\n",
        "if x:\n",
        "  print(\"Yes, the string ends with 'planet'\")\n",
        "else:\n",
        "  print(\"No match\")"
      ],
      "metadata": {
        "colab": {
          "base_uri": "https://localhost:8080/"
        },
        "id": "1IwQQCI1Mlmf",
        "outputId": "9c533c05-90d9-47a4-f617-01cd8baf9d84"
      },
      "execution_count": 28,
      "outputs": [
        {
          "output_type": "stream",
          "name": "stdout",
          "text": [
            "Yes, the string ends with 'planet'\n"
          ]
        }
      ]
    },
    {
      "cell_type": "code",
      "source": [
        "#Search for a sequence that starts with \"he\", followed by 0 or more  (any) characters, and an \"o\":\n",
        "import re\n",
        "txt = \"hello planet\"\n",
        "x = re.findall(\"he.*o\", txt)\n",
        "print(x)"
      ],
      "metadata": {
        "colab": {
          "base_uri": "https://localhost:8080/"
        },
        "id": "KGg4VBmfMnSB",
        "outputId": "55c0ea86-293f-4124-e669-4e8be381eeeb"
      },
      "execution_count": 30,
      "outputs": [
        {
          "output_type": "stream",
          "name": "stdout",
          "text": [
            "['hello']\n"
          ]
        }
      ]
    },
    {
      "cell_type": "code",
      "source": [
        "#Search for a sequence that starts with \"he\", followed by 1 or more  (any) characters, and an \"o\": \n",
        "import re\n",
        "txt =  \"planet\"\n",
        "x = re.findall(\"pla.et\", txt)\n",
        "print(x)"
      ],
      "metadata": {
        "colab": {
          "base_uri": "https://localhost:8080/"
        },
        "id": "bGdzJsyWMxVj",
        "outputId": "568f77ea-84c6-4329-b0a2-f2a7174cf881"
      },
      "execution_count": 32,
      "outputs": [
        {
          "output_type": "stream",
          "name": "stdout",
          "text": [
            "['planet']\n"
          ]
        }
      ]
    },
    {
      "cell_type": "code",
      "source": [
        "#Search for a sequence that starts with \"he\", followed by 0 or 1  (any) character, and an \"o\":\n",
        "import re\n",
        "txt = \"hello planet\"\n",
        "x = re.findall(\"he.?o\", txt)\n",
        "print(x)"
      ],
      "metadata": {
        "colab": {
          "base_uri": "https://localhost:8080/"
        },
        "id": "ELVkb_4pMzl8",
        "outputId": "bff69597-2b00-4416-e716-970ad0e7d491"
      },
      "execution_count": 34,
      "outputs": [
        {
          "output_type": "stream",
          "name": "stdout",
          "text": [
            "[]\n"
          ]
        }
      ]
    },
    {
      "cell_type": "code",
      "source": [
        "#Search for a sequence that starts with \"he\", followed excactly 2 (any) characters, and an \"o\":\n",
        "import re\n",
        "txt = \"hello planet\"\n",
        "x = re.findall(\"he.{2}o\", txt)\n",
        "print(x)"
      ],
      "metadata": {
        "colab": {
          "base_uri": "https://localhost:8080/"
        },
        "id": "8ZtAaOoRM8QX",
        "outputId": "44e5d6b1-4f8c-4e8f-a5c6-61c3870f9590"
      },
      "execution_count": 36,
      "outputs": [
        {
          "output_type": "stream",
          "name": "stdout",
          "text": [
            "['hello']\n"
          ]
        }
      ]
    },
    {
      "cell_type": "code",
      "source": [
        "#Check if the string contains either \"falls\" or \"stays\":\n",
        "import re\n",
        "txt = \"The rain in Spain falls mainly in the plain!\"\n",
        "x = re.findall(\"falls|stays\", txt)\n",
        "print(x)\n",
        "if x:\n",
        "  print(\"Yes, there is at least one match!\")\n",
        "else:\n",
        "  print(\"No match\")"
      ],
      "metadata": {
        "colab": {
          "base_uri": "https://localhost:8080/"
        },
        "id": "-m-sPNckM-od",
        "outputId": "99059556-0de1-420e-bbdd-3ca7182a1ec6"
      },
      "execution_count": 38,
      "outputs": [
        {
          "output_type": "stream",
          "name": "stdout",
          "text": [
            "['falls']\n",
            "Yes, there is at least one match!\n"
          ]
        }
      ]
    },
    {
      "cell_type": "code",
      "source": [
        "### special sequences\n",
        "#Check if the string starts with \"The\":\n",
        "import re\n",
        "txt = \"The rain in Spain\"\n",
        "x = re.findall(\"\\AThe\", txt)\n",
        "print(x)\n",
        "if x:\n",
        "  print(\"Yes, there is a match!\")\n",
        "else:\n",
        "  print(\"No match\")"
      ],
      "metadata": {
        "colab": {
          "base_uri": "https://localhost:8080/"
        },
        "id": "Qu9BlL4BNFFz",
        "outputId": "2fe9ce45-17c9-4d93-8288-4eb428c2d093"
      },
      "execution_count": 40,
      "outputs": [
        {
          "output_type": "stream",
          "name": "stdout",
          "text": [
            "['The']\n",
            "Yes, there is a match!\n"
          ]
        }
      ]
    },
    {
      "cell_type": "code",
      "source": [
        "#Check if \"ain\" is present at the beginning of a WORD:\n",
        "import re\n",
        "txt = \"The rain in Spain\"\n",
        "x = re.findall(r\"\\bain\", txt)\n",
        "print(x)\n",
        "if x:\n",
        "  print(\"Yes, there is at least one match!\")\n",
        "else:\n",
        "  print(\"No match\")"
      ],
      "metadata": {
        "colab": {
          "base_uri": "https://localhost:8080/"
        },
        "id": "DZvhsQ7yNKgx",
        "outputId": "a6526c75-c727-49d9-8e6d-9e9cb485b89e"
      },
      "execution_count": 42,
      "outputs": [
        {
          "output_type": "stream",
          "name": "stdout",
          "text": [
            "[]\n",
            "No match\n"
          ]
        }
      ]
    },
    {
      "cell_type": "code",
      "source": [
        "#Check if \"ain\" is present at the beginning of a WORD:\n",
        "import re\n",
        "txt = \"I love rain\"\n",
        "x = re.findall(r\"\\bain\", txt)\n",
        "print(x)\n",
        "if x:\n",
        "  print(\"Yes, there is at least one match!\")\n",
        "else:\n",
        "  print(\"No match\")"
      ],
      "metadata": {
        "colab": {
          "base_uri": "https://localhost:8080/"
        },
        "id": "WUniTiaMNWDZ",
        "outputId": "167566e8-4c37-4901-9de0-15ee2ceca8f4"
      },
      "execution_count": 44,
      "outputs": [
        {
          "output_type": "stream",
          "name": "stdout",
          "text": [
            "[]\n",
            "No match\n"
          ]
        }
      ]
    },
    {
      "cell_type": "code",
      "source": [
        "#Check if \"ain\" is present, but NOT at the beginning of a word:\n",
        "import re\n",
        "txt = \"my name is anithaa\"\n",
        "x = re.findall(r\"\\Bain\", txt)\n",
        "print(x)\n",
        "if x:\n",
        "  print(\"Yes, there is at least one match!\")\n",
        "else:\n",
        "  print(\"No match\")"
      ],
      "metadata": {
        "colab": {
          "base_uri": "https://localhost:8080/"
        },
        "id": "ADrdZDBlNatD",
        "outputId": "9f33c6f5-3766-4dcb-846c-a522a2dcae39"
      },
      "execution_count": 46,
      "outputs": [
        {
          "output_type": "stream",
          "name": "stdout",
          "text": [
            "[]\n",
            "No match\n"
          ]
        }
      ]
    },
    {
      "cell_type": "code",
      "source": [
        "#Check if the string contains any digits (numbers from 0-9):\n",
        "import re\n",
        "txt = \"my name is anithaa\"\n",
        "x = re.findall(\"\\d\", txt)\n",
        "print(x)\n",
        "if x:\n",
        "  print(\"Yes, there is at least one match!\")\n",
        "else:\n",
        "  print(\"No match\")"
      ],
      "metadata": {
        "colab": {
          "base_uri": "https://localhost:8080/"
        },
        "id": "hXFdgCdbNgmd",
        "outputId": "9093004b-3dfc-403d-a6e4-7ed34dff06c2"
      },
      "execution_count": 48,
      "outputs": [
        {
          "output_type": "stream",
          "name": "stdout",
          "text": [
            "[]\n",
            "No match\n"
          ]
        }
      ]
    },
    {
      "cell_type": "code",
      "source": [
        "#Return a match at every no-digit character:\n",
        "import re\n",
        "txt = \"my name is anitha\"\n",
        "x = re.findall(\"\\D\", txt)\n",
        "print(x)\n",
        "if x:\n",
        "  print(\"Yes, there is at least one match!\")\n",
        "else:\n",
        "  print(\"No match\")"
      ],
      "metadata": {
        "colab": {
          "base_uri": "https://localhost:8080/"
        },
        "id": "Xn2lGmkvNnkr",
        "outputId": "f686dc47-8921-406c-97d0-7baff4a1019b"
      },
      "execution_count": 50,
      "outputs": [
        {
          "output_type": "stream",
          "name": "stdout",
          "text": [
            "['m', 'y', ' ', 'n', 'a', 'm', 'e', ' ', 'i', 's', ' ', 'a', 'n', 'i', 't', 'h', 'a']\n",
            "Yes, there is at least one match!\n"
          ]
        }
      ]
    },
    {
      "cell_type": "code",
      "source": [
        "#Return a match at every white-space character:\n",
        "import re\n",
        "txt = \"i love icecreams\"\n",
        "x = re.findall(\"\\s\", txt)\n",
        "print(x)\n",
        "if x:\n",
        "  print(\"Yes, there is at least one match!\")\n",
        "else:\n",
        "  print(\"No match\")"
      ],
      "metadata": {
        "colab": {
          "base_uri": "https://localhost:8080/"
        },
        "id": "rXDfbL19Nu_5",
        "outputId": "df1e560e-31cd-486d-d90d-4bc913d05698"
      },
      "execution_count": 52,
      "outputs": [
        {
          "output_type": "stream",
          "name": "stdout",
          "text": [
            "[' ', ' ']\n",
            "Yes, there is at least one match!\n"
          ]
        }
      ]
    },
    {
      "cell_type": "code",
      "source": [
        "#Return a match at every NON white-space character:\n",
        "import re\n",
        "txt = \"The rain in Spain\"\n",
        "x = re.findall(\"\\S\", txt)\n",
        "print(x)\n",
        "if x:\n",
        "  print(\"Yes, there is at least one match!\")\n",
        "else:\n",
        "  print(\"No match\")"
      ],
      "metadata": {
        "colab": {
          "base_uri": "https://localhost:8080/"
        },
        "id": "ms5bbu0MN1ef",
        "outputId": "7463583d-a04d-4aee-b8f2-771237edbcf7"
      },
      "execution_count": 54,
      "outputs": [
        {
          "output_type": "stream",
          "name": "stdout",
          "text": [
            "['T', 'h', 'e', 'r', 'a', 'i', 'n', 'i', 'n', 'S', 'p', 'a', 'i', 'n']\n",
            "Yes, there is at least one match!\n"
          ]
        }
      ]
    },
    {
      "cell_type": "code",
      "source": [
        "#Return a match at every NON word character (characters NOT between a and Z. Like \"!\", \"?\" white-space etc.):\n",
        "import re\n",
        "txt = \"The rain in Spain\"\n",
        "x = re.findall(\"\\W\", txt)\n",
        "print(x)\n",
        "if x:\n",
        "  print(\"Yes, there is at least one match!\")\n",
        "else:\n",
        "  print(\"No match\")"
      ],
      "metadata": {
        "colab": {
          "base_uri": "https://localhost:8080/"
        },
        "id": "tHq-Mn1JN6tU",
        "outputId": "39abacbb-d967-4cc7-b92a-60bbecb6b0a3"
      },
      "execution_count": 56,
      "outputs": [
        {
          "output_type": "stream",
          "name": "stdout",
          "text": [
            "[' ', ' ', ' ']\n",
            "Yes, there is at least one match!\n"
          ]
        }
      ]
    },
    {
      "cell_type": "code",
      "source": [
        "#Check if the string ends with \"Spain\":\n",
        "import re\n",
        "txt = \"my name is aniotha\"\n",
        "x = re.findall(\"aqnitha\\Z\", txt)\n",
        "print(x)\n",
        "if x:\n",
        "  print(\"Yes, there is a match!\")\n",
        "else:\n",
        "  print(\"No match\")"
      ],
      "metadata": {
        "colab": {
          "base_uri": "https://localhost:8080/"
        },
        "id": "Q8_sQATiN-qL",
        "outputId": "a00952d8-a148-47e0-a216-0ab1e59d4e03"
      },
      "execution_count": 58,
      "outputs": [
        {
          "output_type": "stream",
          "name": "stdout",
          "text": [
            "[]\n",
            "No match\n"
          ]
        }
      ]
    },
    {
      "cell_type": "code",
      "source": [
        "## sets\n",
        "#Check if the string has any a, r, or n characters:\n",
        "import re\n",
        "txt = \"rain\"\n",
        "x = re.findall(\"[arn]\", txt)\n",
        "print(x)\n",
        "if x:\n",
        "  print(\"Yes, there is at least one match!\")\n",
        "else:\n",
        "  print(\"No match\")"
      ],
      "metadata": {
        "colab": {
          "base_uri": "https://localhost:8080/"
        },
        "id": "FuzMhA1QOHJo",
        "outputId": "8dd080d6-eb68-4544-899f-f384c068b227"
      },
      "execution_count": 60,
      "outputs": [
        {
          "output_type": "stream",
          "name": "stdout",
          "text": [
            "['r', 'a', 'n']\n",
            "Yes, there is at least one match!\n"
          ]
        }
      ]
    },
    {
      "cell_type": "code",
      "source": [
        "#Check if the string has any characters between a and n:\n",
        "import re\n",
        "txt = \"anitha\"\n",
        "x = re.findall(\"[a-n]\", txt)\n",
        "print(x)\n",
        "if x:\n",
        "  print(\"Yes, there is at least one match!\")\n",
        "else:\n",
        "  print(\"No match\")"
      ],
      "metadata": {
        "colab": {
          "base_uri": "https://localhost:8080/"
        },
        "id": "1CDllCEyOMuz",
        "outputId": "036c2ebb-045f-4aa8-89fa-2a3ac73bba29"
      },
      "execution_count": 62,
      "outputs": [
        {
          "output_type": "stream",
          "name": "stdout",
          "text": [
            "['a', 'n', 'i', 'h', 'a']\n",
            "Yes, there is at least one match!\n"
          ]
        }
      ]
    },
    {
      "cell_type": "code",
      "source": [
        "#Check if the string has other characters than a, r, or n:\n",
        "import re\n",
        "txt = \"ankitha\"\n",
        "x = re.findall(\"[^arn]\", txt)\n",
        "print(x)\n",
        "if x:\n",
        "  print(\"Yes, there is at least one match!\")\n",
        "else:\n",
        "  print(\"No match\")"
      ],
      "metadata": {
        "colab": {
          "base_uri": "https://localhost:8080/"
        },
        "id": "6K9eS-iyOW18",
        "outputId": "78189aa1-6911-4319-e5cd-5df87db7d690"
      },
      "execution_count": 64,
      "outputs": [
        {
          "output_type": "stream",
          "name": "stdout",
          "text": [
            "['k', 'i', 't', 'h']\n",
            "Yes, there is at least one match!\n"
          ]
        }
      ]
    },
    {
      "cell_type": "code",
      "source": [
        "#Check if the string has any 0, 1, 2, or 3 digits:\n",
        "import re\n",
        "txt = \"my name is anitha\"\n",
        "x = re.findall(\"[0123]\", txt)\n",
        "print(x)\n",
        "if x:\n",
        "  print(\"Yes, there is at least one match!\")\n",
        "else:\n",
        "  print(\"No match\")"
      ],
      "metadata": {
        "colab": {
          "base_uri": "https://localhost:8080/"
        },
        "id": "TspMrVR-OgQ1",
        "outputId": "03dc1657-5833-4d15-cda3-6a504669c6b0"
      },
      "execution_count": 66,
      "outputs": [
        {
          "output_type": "stream",
          "name": "stdout",
          "text": [
            "[]\n",
            "No match\n"
          ]
        }
      ]
    },
    {
      "cell_type": "code",
      "source": [
        "#Check if the string has any digits:\n",
        "import re\n",
        "txt = \"8 times before 10;00 AM\"\n",
        "x = re.findall(\"[0-9]\", txt)\n",
        "print(x)\n",
        "if x:\n",
        "  print(\"Yes, there is at least one match!\")\n",
        "else:\n",
        "  print(\"No match\")"
      ],
      "metadata": {
        "colab": {
          "base_uri": "https://localhost:8080/"
        },
        "id": "i0ysbRGaOmbK",
        "outputId": "4a42520d-b640-43d1-b8e4-57b35a0f136a"
      },
      "execution_count": 68,
      "outputs": [
        {
          "output_type": "stream",
          "name": "stdout",
          "text": [
            "['8', '1', '0', '0', '0']\n",
            "Yes, there is at least one match!\n"
          ]
        }
      ]
    },
    {
      "cell_type": "code",
      "source": [
        "#Check if the string has any two-digit numbers, from 00 to 59:\n",
        "import re\n",
        "txt = \"8 times before 11:00 AM\"\n",
        "x = re.findall(\"[0-5][0-9]\", txt)\n",
        "print(x)\n",
        "if x:\n",
        "  print(\"Yes, there is at least one match!\")\n",
        "else:\n",
        "  print(\"No match\")"
      ],
      "metadata": {
        "colab": {
          "base_uri": "https://localhost:8080/"
        },
        "id": "N2M0C1piOtau",
        "outputId": "f686a10e-84c7-4ff4-9b4b-c98108604546"
      },
      "execution_count": 69,
      "outputs": [
        {
          "output_type": "stream",
          "name": "stdout",
          "text": [
            "['11', '00']\n",
            "Yes, there is at least one match!\n"
          ]
        }
      ]
    },
    {
      "cell_type": "code",
      "source": [
        "#Check if the string has any two-digit numbers, from 00 to 59:\n",
        "import re\n",
        "txt = \"8 times before 10:00 AM\"\n",
        "x = re.findall(\"[0-5][0-9]\", txt)\n",
        "print(x)\n",
        "if x:\n",
        "  print(\"Yes, there is at least one match!\")\n",
        "else:\n",
        "  print(\"No match\")"
      ],
      "metadata": {
        "colab": {
          "base_uri": "https://localhost:8080/"
        },
        "id": "s3R4ln4sOwPo",
        "outputId": "668bc604-693b-42fd-91ef-ac7fb10b0ff8"
      },
      "execution_count": 71,
      "outputs": [
        {
          "output_type": "stream",
          "name": "stdout",
          "text": [
            "['10', '00']\n",
            "Yes, there is at least one match!\n"
          ]
        }
      ]
    },
    {
      "cell_type": "code",
      "source": [
        "#Check if the string has any characters from a to z lower case, and A to Z upper case:\n",
        "import re\n",
        "txt = \"8 times before 10:00 AM\"\n",
        "x = re.findall(\"[a-zA-Z]\", txt)\n",
        "print(x)\n",
        "if x:\n",
        "  print(\"Yes, there is at least one match!\")\n",
        "else:\n",
        "  print(\"No match\")"
      ],
      "metadata": {
        "colab": {
          "base_uri": "https://localhost:8080/"
        },
        "id": "XEuE6OeOO0Ff",
        "outputId": "e903b47a-336d-4b7c-82b4-d4047c839252"
      },
      "execution_count": 73,
      "outputs": [
        {
          "output_type": "stream",
          "name": "stdout",
          "text": [
            "['t', 'i', 'm', 'e', 's', 'b', 'e', 'f', 'o', 'r', 'e', 'A', 'M']\n",
            "Yes, there is at least one match!\n"
          ]
        }
      ]
    },
    {
      "cell_type": "code",
      "source": [
        "#Check if the string has any + characters:\n",
        "import re\n",
        "txt = \"8 times before 10:45 AM\"\n",
        "x = re.findall(\"[+]\", txt)\n",
        "print(x)\n",
        "if x:\n",
        "  print(\"Yes, there is at least one match!\")\n",
        "else:\n",
        "  print(\"No match\")"
      ],
      "metadata": {
        "colab": {
          "base_uri": "https://localhost:8080/"
        },
        "id": "eBJqBYjBO8P6",
        "outputId": "453c4c32-6daa-4b68-9fd5-e23aba97beb1"
      },
      "execution_count": 75,
      "outputs": [
        {
          "output_type": "stream",
          "name": "stdout",
          "text": [
            "[]\n",
            "No match\n"
          ]
        }
      ]
    },
    {
      "cell_type": "code",
      "source": [
        "## Findall Function\n",
        "import re\n",
        "txt = \"Spain\"\n",
        "x = re.findall(\"ai\", txt)\n",
        "print(x)"
      ],
      "metadata": {
        "colab": {
          "base_uri": "https://localhost:8080/"
        },
        "id": "-l4233hxPCsK",
        "outputId": "db07fb0e-e7bc-4314-f48e-f523d4e537fb"
      },
      "execution_count": 77,
      "outputs": [
        {
          "output_type": "stream",
          "name": "stdout",
          "text": [
            "['ai']\n"
          ]
        }
      ]
    },
    {
      "cell_type": "code",
      "source": [
        "## Return an empty list if no match was found:\n",
        "import re\n",
        "txt = \"The rain in Spain\"\n",
        "x = re.findall(\"Portugal\", txt)\n",
        "print(x)"
      ],
      "metadata": {
        "colab": {
          "base_uri": "https://localhost:8080/"
        },
        "id": "qw5MXmrGPIZs",
        "outputId": "cafc0a90-9949-44af-c927-1d0a2d5f5f07"
      },
      "execution_count": 79,
      "outputs": [
        {
          "output_type": "stream",
          "name": "stdout",
          "text": [
            "[]\n"
          ]
        }
      ]
    },
    {
      "cell_type": "code",
      "source": [
        "## sub function\n",
        "import re\n",
        "txt = \"The rain in Spain\"\n",
        "x = re.sub(\"\\s\", \"9\", txt)\n",
        "print(x)"
      ],
      "metadata": {
        "colab": {
          "base_uri": "https://localhost:8080/"
        },
        "id": "lw9AGwFLPMM-",
        "outputId": "0c701de1-042b-4eec-fe18-7ff29eac6955"
      },
      "execution_count": 81,
      "outputs": [
        {
          "output_type": "stream",
          "name": "stdout",
          "text": [
            "The9rain9in9Spain\n"
          ]
        }
      ]
    },
    {
      "cell_type": "code",
      "source": [
        "## Replace the first 2 occurrences:\n",
        "import re\n",
        "txt = \"The rain in Spain\"\n",
        "x = re.sub(\"\\s\", \"9\", txt, 2)\n",
        "print(x)"
      ],
      "metadata": {
        "colab": {
          "base_uri": "https://localhost:8080/"
        },
        "id": "ZgNDDbSgPRPh",
        "outputId": "a389ccba-8377-42ba-baff-6956e3f07a18"
      },
      "execution_count": 83,
      "outputs": [
        {
          "output_type": "stream",
          "name": "stdout",
          "text": [
            "The9rain9in Spain\n"
          ]
        }
      ]
    },
    {
      "cell_type": "code",
      "source": [
        "## Match function\n",
        "import re\n",
        "txt = \"The rain in Spain\"\n",
        "x = re.search(\"ai\", txt)\n",
        "print(x) #this will print an object"
      ],
      "metadata": {
        "colab": {
          "base_uri": "https://localhost:8080/"
        },
        "id": "7xbMgBa2PW8v",
        "outputId": "eb5c2205-b195-4579-f85b-9f56b809ecf9"
      },
      "execution_count": 85,
      "outputs": [
        {
          "output_type": "stream",
          "name": "stdout",
          "text": [
            "<re.Match object; span=(5, 7), match='ai'>\n"
          ]
        }
      ]
    },
    {
      "cell_type": "code",
      "source": [
        "## Print the position (start- and end-position) of the first match occurrence.\n",
        "import re\n",
        "txt = \"The rain in Spain\"\n",
        "x = re.search(r\"\\bS\\w+\", txt)\n",
        "print(x.span())"
      ],
      "metadata": {
        "colab": {
          "base_uri": "https://localhost:8080/"
        },
        "id": "iyRfCW3nPZCt",
        "outputId": "c56f644b-a63f-4087-e6dc-63a7c8a49a43"
      },
      "execution_count": 87,
      "outputs": [
        {
          "output_type": "stream",
          "name": "stdout",
          "text": [
            "(12, 17)\n"
          ]
        }
      ]
    },
    {
      "cell_type": "code",
      "source": [
        "## Print the string passed into the function:\n",
        "import re\n",
        "txt = \"The rain in Spain\"\n",
        "x = re.search(r\"\\bS\\w+\", txt)\n",
        "print(x.string)"
      ],
      "metadata": {
        "colab": {
          "base_uri": "https://localhost:8080/"
        },
        "id": "ChL5GDD2Pf-L",
        "outputId": "12f820af-c47b-4cb6-b198-5f8ac835f0ec"
      },
      "execution_count": 89,
      "outputs": [
        {
          "output_type": "stream",
          "name": "stdout",
          "text": [
            "The rain in Spain\n"
          ]
        }
      ]
    },
    {
      "cell_type": "code",
      "source": [
        "## Print the part of the string where there was a match.\n",
        "import re\n",
        "txt = \"The rain in Spain\"\n",
        "x = re.search(r\"\\bS\\w+\", txt)\n",
        "print(x.group()) "
      ],
      "metadata": {
        "colab": {
          "base_uri": "https://localhost:8080/"
        },
        "id": "uwcv_7NWPnTc",
        "outputId": "2b6e2bfd-6b54-403e-ab10-ba4789f002a8"
      },
      "execution_count": 90,
      "outputs": [
        {
          "output_type": "stream",
          "name": "stdout",
          "text": [
            "Spain\n"
          ]
        }
      ]
    }
  ]
}