{
  "nbformat": 4,
  "nbformat_minor": 0,
  "metadata": {
    "colab": {
      "name": "Copy of Copy of module 1 programs",
      "provenance": [],
      "collapsed_sections": [],
      "authorship_tag": "ABX9TyMx/qPYIry4fz8YxziOEtYD",
      "include_colab_link": true
    },
    "kernelspec": {
      "name": "python3",
      "display_name": "Python 3"
    },
    "language_info": {
      "name": "python"
    }
  },
  "cells": [
    {
      "cell_type": "markdown",
      "metadata": {
        "id": "view-in-github",
        "colab_type": "text"
      },
      "source": [
        "<a href=\"https://colab.research.google.com/github/anitha200/python-new/blob/module-1/Copy_of_Copy_of_module_1_programs.ipynb\" target=\"_parent\"><img src=\"https://colab.research.google.com/assets/colab-badge.svg\" alt=\"Open In Colab\"/></a>"
      ]
    },
    {
      "cell_type": "code",
      "source": [
        "##Take 2 numbers as user input and add, multiply, divide, subtract, remainder and printthe output by using int\n",
        "a=int(input(\"enter 1st number\"))\n",
        "b=int(input(\"enter 2nd number\"))\n",
        "c=a+b\n",
        "print(c)\n",
        "c=a-b\n",
        "print(c)\n",
        "c=a*b\n",
        "print(c)\n",
        "c=a/b\n",
        "print(c)\n",
        "c=a%b\n",
        "print(c)\n",
        "\n",
        "\n",
        "####Take 2 numbers as user input and add, multiply, divide, subtract, remainder and printthe output using float\n",
        "a=float(input(\"enter 1st number\"))\n",
        "b=float(input(\"enter 2nd number\"))\n",
        "c=a+b\n",
        "print(c)\n",
        "c=a-b\n",
        "print(c)\n",
        "c=a*b\n",
        "print(c)\n",
        "c=a/b\n",
        "print(c)\n",
        "c=a%b\n",
        "print(c)"
      ],
      "metadata": {
        "colab": {
          "base_uri": "https://localhost:8080/"
        },
        "id": "2M1ksLROeW1C",
        "outputId": "05aa680c-2928-4694-b764-7abdb6a795c4"
      },
      "execution_count": null,
      "outputs": [
        {
          "output_type": "stream",
          "name": "stdout",
          "text": [
            "enter 1st number1\n",
            "enter 2nd number3\n",
            "4\n",
            "-2\n",
            "3\n",
            "0.3333333333333333\n",
            "1\n",
            "enter 1st number3\n",
            "enter 2nd number2\n",
            "5.0\n",
            "1.0\n",
            "6.0\n",
            "1.5\n",
            "1.0\n"
          ]
        }
      ]
    },
    {
      "cell_type": "code",
      "source": [
        "##Conversion of one unit to another (such as hours to minutes, miles to km and etc)\n",
        "time=float(input(\"enter the hours\"))\n",
        "print(\"minutes =\",time*60)\n",
        "a=float(input(\"enter miles\"))\n",
        "print(\"km =\",a*1.6)\n"
      ],
      "metadata": {
        "colab": {
          "base_uri": "https://localhost:8080/"
        },
        "id": "bVJ19d7RfQA6",
        "outputId": "5da7bb06-a1c4-4f44-f8c4-c08df697fd22"
      },
      "execution_count": null,
      "outputs": [
        {
          "output_type": "stream",
          "name": "stdout",
          "text": [
            "enter the hours3\n",
            "minutes = 180.0\n",
            "enter miles5\n",
            "km = 8.0\n"
          ]
        }
      ]
    },
    {
      "cell_type": "code",
      "source": [
        "##Accepting 5 different subject marks from user and displaying the grade of the student\n",
        "a=int(input(\"enter 1st subject marks\"))\n",
        "b=int(input(\"enter 2nd subject marks\"))\n",
        "c=int(input(\"enter 3rd subject marks\"))\n",
        "d=int(input(\"enter 4th subject marks\"))\n",
        "e=int(input(\"enter 5th subject marks\"))\n",
        "avg=(a+b+c+d+e)/5\n",
        "if (avg>=90) :\n",
        " print(\"Grade:A\")\n",
        "elif(avg>=80&avg<90):\n",
        "  print(\"Grade: B\")\n",
        "elif(avg>=70&avg<80):\n",
        "  print(\"Grade: C\")\n",
        "elif(avg>=60&avg<70):\n",
        "  print(\"Grade: D\")\n",
        "else:\n",
        "  print(\"Grade: F\")\n",
        "\n"
      ],
      "metadata": {
        "colab": {
          "base_uri": "https://localhost:8080/"
        },
        "id": "GFYU3sU5hCaR",
        "outputId": "03b76c7f-818a-421f-bda1-5ab9d720f2da"
      },
      "execution_count": null,
      "outputs": [
        {
          "output_type": "stream",
          "name": "stdout",
          "text": [
            "enter 1st subject marks99\n",
            "enter 2nd subject marks98\n",
            "enter 3rd subject marks97\n",
            "enter 4th subject marks96\n",
            "enter 5th subject marks95\n",
            "Grade:A\n"
          ]
        }
      ]
    },
    {
      "cell_type": "code",
      "source": [
        "##Printing all even numbers, odd numbers, count of even numbers, count of odd numberswithin a given range.\n",
        "##even numbers\n",
        "for i in range(6,50,2):\n",
        "   print(i)\n",
        "\n",
        " ##odd numbers\n",
        "for i in range(1,77,2):\n",
        "   print(i)"
      ],
      "metadata": {
        "colab": {
          "base_uri": "https://localhost:8080/"
        },
        "id": "QQqrgTEljrl5",
        "outputId": "c59fd9f5-5984-4659-b392-ca534f2b468f"
      },
      "execution_count": null,
      "outputs": [
        {
          "output_type": "stream",
          "name": "stdout",
          "text": [
            "6\n",
            "8\n",
            "10\n",
            "12\n",
            "14\n",
            "16\n",
            "18\n",
            "20\n",
            "22\n",
            "24\n",
            "26\n",
            "28\n",
            "30\n",
            "32\n",
            "34\n",
            "36\n",
            "38\n",
            "40\n",
            "42\n",
            "44\n",
            "46\n",
            "48\n",
            "1\n",
            "3\n",
            "5\n",
            "7\n",
            "9\n",
            "11\n",
            "13\n",
            "15\n",
            "17\n",
            "19\n",
            "21\n",
            "23\n",
            "25\n",
            "27\n",
            "29\n",
            "31\n",
            "33\n",
            "35\n",
            "37\n",
            "39\n",
            "41\n",
            "43\n",
            "45\n",
            "47\n",
            "49\n",
            "51\n",
            "53\n",
            "55\n",
            "57\n",
            "59\n",
            "61\n",
            "63\n",
            "65\n",
            "67\n",
            "69\n",
            "71\n",
            "73\n",
            "75\n"
          ]
        }
      ]
    },
    {
      "cell_type": "code",
      "source": [
        "##Building a mathematical calculator that can perform operations according to user input.Use decision making statement\n",
        "a=float(input(\"enter number \"))\n",
        "b=float(input(\"enter a number \"))\n",
        "i=input(\"enter opeation\")\n",
        "if i==\"+\":\n",
        "  print(a+b)\n",
        "elif i==\"-\":\n",
        "  print(a-b)\n",
        "elif i==\"%\":\n",
        "  print(a%b)\n",
        "elif i==\"*\":\n",
        "  print(a*b)\n",
        "else:\n",
        "  print(a/b)\n",
        "\n"
      ],
      "metadata": {
        "id": "352d7TMnl6oo",
        "colab": {
          "base_uri": "https://localhost:8080/"
        },
        "outputId": "b1a4fbb7-f8da-405e-887f-75f1cf942f73"
      },
      "execution_count": null,
      "outputs": [
        {
          "output_type": "stream",
          "name": "stdout",
          "text": [
            "enter number 1\n",
            "enter a number 3\n",
            "enter opeation+\n",
            "4.0\n"
          ]
        }
      ]
    },
    {
      "cell_type": "code",
      "source": [
        "##Usage of mathematical functions in python like math.ceil, floor, fabs, fmod, trunc,pow, sqrt etc.\n",
        "import math\n",
        "%alias=float(input(\"enter a number \"))\n",
        "print(math.ceil(a))\n",
        "print(math.floor(a))\n",
        "print(math.fabs(a))\n",
        "print(math.trunc(a))\n",
        "print(math.sqrt(a))\n",
        "b=float(input(\"enter a number\"))\n",
        "c=float(input(\"enter a number \"))\n",
        "print(math.fmod(b,c))\n",
        "print(math.pow(b,c))\n"
      ],
      "metadata": {
        "colab": {
          "base_uri": "https://localhost:8080/"
        },
        "id": "Lw6qQqu3tNJn",
        "outputId": "0d83cfc6-608b-48b4-ac0f-22c9c7dea07b"
      },
      "execution_count": null,
      "outputs": [
        {
          "output_type": "stream",
          "name": "stdout",
          "text": [
            "enter a number 2\n",
            "2\n",
            "2\n",
            "2.0\n",
            "2\n",
            "1.4142135623730951\n",
            "enter a number1\n",
            "enter a number 3\n",
            "1.0\n",
            "1.0\n"
          ]
        }
      ]
    },
    {
      "cell_type": "code",
      "source": [
        "###Compute the factorial of a given number.\n",
        "n=int(input(\"enter a number \"))\n",
        "fact=1\n",
        "for i in range(1,n+1):\n",
        "  fact=fact*i\n",
        "\n",
        "print(fact)\n"
      ],
      "metadata": {
        "colab": {
          "base_uri": "https://localhost:8080/"
        },
        "id": "GH7EaJSgtuCa",
        "outputId": "150f98ce-ae68-4e7b-fa67-289aeb2f1ed4"
      },
      "execution_count": null,
      "outputs": [
        {
          "output_type": "stream",
          "name": "stdout",
          "text": [
            "enter a number 6\n",
            "720\n"
          ]
        }
      ]
    },
    {
      "cell_type": "code",
      "source": [
        "##Compute GCD of two given \n",
        "a=int(input(\"enter a number\"))\n",
        "b=int(input(\"enter a number\"))\n",
        "c=a if a<b else b\n",
        "while True:\n",
        "    if a%c==0 and b%c==0:\n",
        "     break\n",
        "    c -=1\n",
        "print(c)"
      ],
      "metadata": {
        "colab": {
          "base_uri": "https://localhost:8080/"
        },
        "id": "6W6nv2EUuYfk",
        "outputId": "b4064e30-ea52-4d1c-deb1-539a10ecf427"
      },
      "execution_count": null,
      "outputs": [
        {
          "output_type": "stream",
          "name": "stdout",
          "text": [
            "enter a number60\n",
            "enter a number20\n",
            "20\n"
          ]
        }
      ]
    },
    {
      "cell_type": "code",
      "source": [
        "##x Accept input from user and store it in variable and print the value\n",
        "a=int(input(\"enter the number\"))\n",
        "print(a)\n"
      ],
      "metadata": {
        "id": "i8utNIHtuujt",
        "colab": {
          "base_uri": "https://localhost:8080/"
        },
        "outputId": "f5bfbeef-4fb7-4412-b16e-6b388311f95e"
      },
      "execution_count": null,
      "outputs": [
        {
          "output_type": "stream",
          "name": "stdout",
          "text": [
            "enter the number12\n",
            "12\n"
          ]
        }
      ]
    },
    {
      "cell_type": "code",
      "source": [
        "##Use of print statements and use of (.format )for printing different data types.\n",
        "quantity=4\n",
        "price=100\n",
        "item=3\n",
        "name=\"diary milk\"\n",
        "myoder=\"I brought {3} with {1} having{0} and purchased {2}\"\n",
        "print(myoder.format(quantity,price,item,name))"
      ],
      "metadata": {
        "colab": {
          "base_uri": "https://localhost:8080/"
        },
        "id": "1b-E9nXgKwSI",
        "outputId": "b09bce9c-6a65-4b1a-ca01-d96213a5aeb4"
      },
      "execution_count": null,
      "outputs": [
        {
          "output_type": "stream",
          "name": "stdout",
          "text": [
            "I brought diary milk with 100 having4 and purchased 3\n"
          ]
        }
      ]
    },
    {
      "cell_type": "code",
      "source": [
        "##even count and odd count with given range\n",
        "n=int(input(\"enter the range\"))\n",
        "b=0\n",
        "for i in range(1,n+1):\n",
        "  if i%2==0:\n",
        "    b+=1\n",
        "    print(i)\n",
        "print(\"even count is \",b)\n",
        "a=0\n",
        "for i in range(1,n+1):\n",
        "  if i%2!=0:\n",
        "    a+=1\n",
        "    print(i)\n",
        "    print(\"odd count is \",a)\n",
        "  \n"
      ],
      "metadata": {
        "colab": {
          "base_uri": "https://localhost:8080/"
        },
        "id": "uHZ2JRUUNjAH",
        "outputId": "86e101e0-8442-450b-d176-3da4e926502d"
      },
      "execution_count": null,
      "outputs": [
        {
          "output_type": "stream",
          "name": "stdout",
          "text": [
            "enter the range10\n",
            "2\n",
            "4\n",
            "6\n",
            "8\n",
            "10\n",
            "even count is  5\n",
            "1\n",
            "odd count is  1\n",
            "3\n",
            "odd count is  2\n",
            "5\n",
            "odd count is  3\n",
            "7\n",
            "odd count is  4\n",
            "9\n",
            "odd count is  5\n"
          ]
        }
      ]
    },
    {
      "cell_type": "code",
      "source": [
        "##fibonacci series\n",
        "n=int(input(\"enter a number\"))\n",
        "n1,n2=0,1\n",
        "print(\"fibonacci series:\" ,n1,n2,end=\"\")\n",
        "for i in range(2,n):\n",
        "  n3=n1+n2\n",
        "  n1=n2\n",
        "  n2=n3\n",
        "  print(n3,end=\"\")\n"
      ],
      "metadata": {
        "colab": {
          "base_uri": "https://localhost:8080/"
        },
        "id": "KKLrtTUkQ_zv",
        "outputId": "8c17742d-0276-408c-95c3-46e43eb8782b"
      },
      "execution_count": null,
      "outputs": [
        {
          "output_type": "stream",
          "name": "stdout",
          "text": [
            "enter a number2\n",
            "fibonacci series: 0 1"
          ]
        }
      ]
    },
    {
      "cell_type": "code",
      "source": [
        "##1.Accept input from user and store it in variable and print the value\n",
        "a=18\n",
        "b=10\n",
        "c=int(input())\n",
        "d=int(input())\n",
        "f=a-(b)-(c)-(d)\n",
        "print(f)\n",
        "\n"
      ],
      "metadata": {
        "colab": {
          "base_uri": "https://localhost:8080/"
        },
        "id": "Y0IW8bijS_Hq",
        "outputId": "b6f55777-0e6b-4eed-b208-14249962ca1f"
      },
      "execution_count": null,
      "outputs": [
        {
          "output_type": "stream",
          "name": "stdout",
          "text": [
            "1\n",
            "3\n",
            "4\n"
          ]
        }
      ]
    },
    {
      "cell_type": "code",
      "source": [
        "##Check whether the given input is a) palindrome b) strong c) perfect\n",
        "##palindrome\n",
        "def isPalindrome(s):\n",
        "\treturn s==s[::-1]\n",
        "s=input(\"enter the value\")\n",
        "ans=isPalindrome(s)\n",
        "if ans:\n",
        "\tprint(\"Yes\")\n",
        "else:\n",
        "\tprint(\"No\")\n",
        " \n",
        " ##strong\n",
        "sum=0   \n",
        "num=int(input(\"Enter a number:\"))  \n",
        "temp=num  \n",
        "while(num): \n",
        "    i=1  \n",
        "    fact=1  \n",
        "    rem=num%10  \n",
        "    while(i<=rem):  \n",
        "        fact=fact*i\n",
        "        i=i+1  \n",
        "    sum=sum+fact  \n",
        "    num=num//10  \n",
        "if(sum==temp):  \n",
        "    print(\"Given number is a strong number\")  \n",
        "else:  \n",
        "    print(\"Given number is not a strong number\")\n",
        "\n",
        "\n",
        "##perfect number\n",
        "    a=int(input(\"enter the number\"))\n",
        "    sum1 = 0\n",
        "    for i in range(1,a):\n",
        "        if(a%i==0):\n",
        "          sum1 =sum1+i\n",
        "        if(sum1==a):\n",
        "           print(\"number is perfect number!\")\n",
        "        else:\n",
        "            print(\"number is not a perfect number! \")\n"
      ],
      "metadata": {
        "id": "vJc4YgZYTQ8O",
        "colab": {
          "base_uri": "https://localhost:8080/"
        },
        "outputId": "9644d400-6699-4e8f-951d-8df074585cde"
      },
      "execution_count": null,
      "outputs": [
        {
          "output_type": "stream",
          "name": "stdout",
          "text": [
            "enter the value343\n",
            "Yes\n",
            "Enter a number:12\n",
            "Given number is not a strong number\n",
            "enter the number2\n",
            "number is not a perfect number! \n"
          ]
        }
      ]
    },
    {
      "cell_type": "code",
      "source": [
        "## Compute compound interest using loop for a certain principal and interest amount\n",
        "n=int(input(\"Enter the principle amount:\"))\n",
        "rate=int(input(\"Enter the rate:\"))\n",
        "years=int(input(\"Enter the number of years:\"))\n",
        "for i in range(years):\n",
        "    n=n+((n*rate)/100)\n",
        "print(n)"
      ],
      "metadata": {
        "colab": {
          "base_uri": "https://localhost:8080/"
        },
        "id": "CDM68QAY-Og1",
        "outputId": "a139b602-497c-4b14-f9ed-63ed568e7020"
      },
      "execution_count": null,
      "outputs": [
        {
          "output_type": "stream",
          "name": "stdout",
          "text": [
            "Enter the principle amount:400\n",
            "Enter the rate:500\n",
            "Enter the number of years:10\n",
            "24186470400.0\n"
          ]
        }
      ]
    }
  ]
}