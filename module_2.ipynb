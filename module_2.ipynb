{
  "nbformat": 4,
  "nbformat_minor": 0,
  "metadata": {
    "colab": {
      "name": "module 2",
      "provenance": [],
      "collapsed_sections": [],
      "authorship_tag": "ABX9TyPSD/eIU+aNy4G7GGletpRH",
      "include_colab_link": true
    },
    "kernelspec": {
      "name": "python3",
      "display_name": "Python 3"
    },
    "language_info": {
      "name": "python"
    }
  },
  "cells": [
    {
      "cell_type": "markdown",
      "metadata": {
        "id": "view-in-github",
        "colab_type": "text"
      },
      "source": [
        "<a href=\"https://colab.research.google.com/github/anitha200/python-new/blob/module-2/module_2.ipynb\" target=\"_parent\"><img src=\"https://colab.research.google.com/assets/colab-badge.svg\" alt=\"Open In Colab\"/></a>"
      ]
    },
    {
      "cell_type": "code",
      "execution_count": null,
      "metadata": {
        "colab": {
          "base_uri": "https://localhost:8080/"
        },
        "id": "Q2Q-ipFuorP-",
        "outputId": "57100a99-e056-4997-ae87-a6da14f40eec"
      },
      "outputs": [
        {
          "output_type": "stream",
          "name": "stdout",
          "text": [
            "4\n",
            "2\n",
            "6\n"
          ]
        }
      ],
      "source": [
        "##Create a function which accepts two inputs from the user and compute nCr\n",
        "def nCr(c,d):\n",
        " return (fact(c)/(fact(d)\n",
        "               *fact(c-d)))\n",
        "c=int(input(\"\"))\n",
        "d=int(input(\"\"))\n",
        "def fact(c):\n",
        "    res=1\n",
        "    for i in range(2,c+1):\n",
        "      res=res*i\n",
        "    return res\n",
        "print(int(nCr(c,d)))"
      ]
    },
    {
      "cell_type": "code",
      "source": [
        "##Program to print a specified list after removing the 0th, 4th and 5th elements.\n",
        "#Sample List : ['Red', 'Green', 'White', 'Black', 'Pink', 'Yellow']\n",
        "#Expected Output : ['Green', 'White', 'Black']\n",
        "colors = [\"Red\", \"Green\", \"White\", \"Black\", \"Pink\", \"Yellow\"]\n",
        "del colors[0]\n",
        "del colors[3]\n",
        "del colors[3]\n",
        "print(colors)\n"
      ],
      "metadata": {
        "colab": {
          "base_uri": "https://localhost:8080/"
        },
        "id": "9sDqOsg-vUJ_",
        "outputId": "f7b717ea-75dc-4998-b4fa-adcf7dda8535"
      },
      "execution_count": null,
      "outputs": [
        {
          "output_type": "stream",
          "name": "stdout",
          "text": [
            "['Green', 'White', 'Black']\n"
          ]
        }
      ]
    },
    {
      "cell_type": "code",
      "source": [
        "##Program to get the difference between the two lists.  \\\\error\n",
        "colors = [\"Red\", \"Green\", \"White\", \"Black\", \"Pink\", \"Yellow\",\"orange\",\"blue\"]\n",
        "rainbow = [\"Red\", \"Green\", \"White\", \"Black\", \"Pink\", \"Yellow\",\"brown\"]\n",
        "a=set(colors)\n",
        "b=set(rainbow)\n",
        "c1=a.difference(b)\n",
        "c2=b.difference(a)\n",
        "print(c1)\n",
        "print(c2)"
      ],
      "metadata": {
        "id": "cwaRWCOF0m66",
        "colab": {
          "base_uri": "https://localhost:8080/"
        },
        "outputId": "3a9fd758-af04-4003-a2b2-55a40bbd9e5e"
      },
      "execution_count": null,
      "outputs": [
        {
          "output_type": "stream",
          "name": "stdout",
          "text": [
            "{'blue', 'orange'}\n",
            "{'brown'}\n"
          ]
        }
      ]
    },
    {
      "cell_type": "code",
      "source": [
        "##Program to find the second smallest number and second largest number in a list.\n",
        "numbers=[55,22,5,1,99,20]\n",
        "numbers.sort()\n",
        "print(numbers)\n",
        "print(\"2nd smallest number is:\",numbers[2])\n",
        "print(\"2nd largest number is:\",numbers[len(numbers)-2])"
      ],
      "metadata": {
        "id": "NWorSt8OBjWw",
        "colab": {
          "base_uri": "https://localhost:8080/"
        },
        "outputId": "fccb5f6e-05f6-4c88-dc49-32a6d926612f"
      },
      "execution_count": null,
      "outputs": [
        {
          "output_type": "stream",
          "name": "stdout",
          "text": [
            "[1, 5, 20, 22, 55, 99]\n",
            "2nd smallest number is: 20\n",
            "2nd largest number is: 55\n"
          ]
        }
      ]
    },
    {
      "cell_type": "code",
      "source": [
        "##Given a list of numbers of list, write a Python program to create a list of tuples having first element as the number and second element as the square of the number\n",
        "num1=[272,16,17,14,4]\n",
        "num2=[]\n",
        "for i in num1:\n",
        "  x=(i,i**2)\n",
        "  num2.append(x)\n",
        "  print(\"required list is:\",num2)"
      ],
      "metadata": {
        "id": "k_9xXC0Z0w1D",
        "colab": {
          "base_uri": "https://localhost:8080/"
        },
        "outputId": "729fe203-ebb2-4304-cdcd-60b213dc27d9"
      },
      "execution_count": null,
      "outputs": [
        {
          "output_type": "stream",
          "name": "stdout",
          "text": [
            "required list is: [(272, 73984)]\n",
            "required list is: [(272, 73984), (16, 256)]\n",
            "required list is: [(272, 73984), (16, 256), (17, 289)]\n",
            "required list is: [(272, 73984), (16, 256), (17, 289), (14, 196)]\n",
            "required list is: [(272, 73984), (16, 256), (17, 289), (14, 196), (4, 16)]\n"
          ]
        }
      ]
    },
    {
      "cell_type": "code",
      "source": [
        "##Given list of tuples, remove all the tuples with length K.\n",
        "#Input : test_list = [(4, 5), (4, ), (8, 6, 7), (1, ), (3, 4, 6, 7)], K = 2\n",
        "#Output : [(4, ), (8, 6, 7), (1, ), (3, 4, 6, 7)]\n",
        "#Explanation : (4, 5) of len = 2 is removed.\n",
        "list1 = [(4, 5), (4, ), (8, 6, 7), (1, ), (3, 4, 6, 7)]\n",
        "list2=[]\n",
        "k=2\n",
        "for b in list1:\n",
        "  if len(b)!=k:\n",
        "    list2.append(b)\n",
        "    print(\"without containing any element of tupple of length '2':\",list2 )"
      ],
      "metadata": {
        "colab": {
          "base_uri": "https://localhost:8080/"
        },
        "id": "RKyNzED1ptPI",
        "outputId": "03123eb2-ec61-46ab-e9bd-9bc0f8103634"
      },
      "execution_count": null,
      "outputs": [
        {
          "output_type": "stream",
          "name": "stdout",
          "text": [
            "without containing any element of tupple of length '2': [(4,)]\n",
            "without containing any element of tupple of length '2': [(4,), (8, 6, 7)]\n",
            "without containing any element of tupple of length '2': [(4,), (8, 6, 7), (1,)]\n",
            "without containing any element of tupple of length '2': [(4,), (8, 6, 7), (1,), (3, 4, 6, 7)]\n"
          ]
        }
      ]
    },
    {
      "cell_type": "code",
      "source": [
        "##Program to generate and print a dictionary that contains a number (between 1and n) in the form (x, x*x).\n",
        "#Sample Input: (n=5) :\n",
        "#Expected Output : {1: 1, 2: 4, 3: 9, 4: 16, 5: 25}\n",
        "my_numbers=dict()\n",
        "a=int(input(\"enter a number\"))\n",
        "for i in range(1,a+1):\n",
        "  my_numbers.update({i:i**2})\n",
        "print(\"the numbers is:\",my_numbers)"
      ],
      "metadata": {
        "colab": {
          "base_uri": "https://localhost:8080/"
        },
        "id": "EXXnW9ttrOAu",
        "outputId": "a5295745-f270-444d-8b86-471e427bb3b2"
      },
      "execution_count": null,
      "outputs": [
        {
          "output_type": "stream",
          "name": "stdout",
          "text": [
            "enter a number7\n",
            "the numbers is: {1: 1, 2: 4, 3: 9, 4: 16, 5: 25, 6: 36, 7: 49}\n"
          ]
        }
      ]
    },
    {
      "cell_type": "code",
      "source": [
        "##Program to remove a key from a dictionary\n",
        "watch =  {\n",
        " \"brand\":\"fossil\",\n",
        " \"model\":\"hybrid smart\",\n",
        " \"year\":1890\n",
        "}\n",
        "\n",
        "del watch[\"model\"]\n",
        "print(watch)\n"
      ],
      "metadata": {
        "id": "teTjim63tfGG",
        "colab": {
          "base_uri": "https://localhost:8080/"
        },
        "outputId": "40226592-af1d-4dce-f87b-b70aa2bcea64"
      },
      "execution_count": null,
      "outputs": [
        {
          "output_type": "stream",
          "name": "stdout",
          "text": [
            "{'brand': 'fossil', 'year': 1890}\n"
          ]
        }
      ]
    },
    {
      "cell_type": "code",
      "source": [
        "##Program to get the maximum and minimum value in a dictionary\n",
        "my_numbers={\n",
        "    \"l\":272,\n",
        "    \"a\":16,\n",
        "    \"s\":17,\n",
        "    \"i\":14,\n",
        "}\n",
        "max_value=max(my_numbers, key=my_numbers.get)\n",
        "min_value=min(my_numbers, key=my_numbers.get)\n",
        "print(\"The maximum value in the given numbers has a key:'\"+max_value+\"' and its value is:\",my_numbers[max_value])\n",
        "print(\"The minimum value in the given numbers has a key:'\"+min_value+\"' and its value is:\",my_numbers[min_value])\n"
      ],
      "metadata": {
        "colab": {
          "base_uri": "https://localhost:8080/"
        },
        "id": "3vCjT_NLueuX",
        "outputId": "4246bc62-d101-4193-a974-e6ece497a97e"
      },
      "execution_count": null,
      "outputs": [
        {
          "output_type": "stream",
          "name": "stdout",
          "text": [
            "The maximum value in the given numbers has a key:'l' and its value is: 272\n",
            "The minimum value in the given numbers has a key:'i' and its value is: 14\n"
          ]
        }
      ]
    },
    {
      "cell_type": "code",
      "source": [
        "##Program to perform operations on string using unicodes ,splitting of string,accessingelements of string using locations\n",
        "my_string=input(\"enter a string: \")\n",
        "print(my_string.split())\n",
        "print(my_string[7:20])\n",
        "\n"
      ],
      "metadata": {
        "colab": {
          "base_uri": "https://localhost:8080/"
        },
        "id": "8j8zZNHuwJPz",
        "outputId": "62089f54-ef72-4f00-a87b-5fd32245f48b"
      },
      "execution_count": null,
      "outputs": [
        {
          "output_type": "stream",
          "name": "stdout",
          "text": [
            "enter a string: this is anitha from srikakulam\n",
            "['this', 'is', 'anitha', 'from', 'srikakulam']\n",
            " anitha from \n"
          ]
        }
      ]
    },
    {
      "cell_type": "code",
      "source": [
        "##Program for Counting occurrence of a certain element in a string, getting indexes thathave matching elements.For ex -.In Rabbit count how many times b has occurred .\n",
        "#Example-I have to go to a doctor and get myself checked. Count the number of\n",
        "animal1=\"piggy\"\n",
        "print(animal1.count(\"g\"))\n",
        "string=\"have to go to a doctor and get myself checked\"\n",
        "print(string.count(\"e\"))"
      ],
      "metadata": {
        "colab": {
          "base_uri": "https://localhost:8080/"
        },
        "id": "5QuKHnWZynmv",
        "outputId": "552538a1-87db-4e32-cf53-2a2e6b96e40d"
      },
      "execution_count": null,
      "outputs": [
        {
          "output_type": "stream",
          "name": "stdout",
          "text": [
            "2\n",
            "5\n"
          ]
        }
      ]
    },
    {
      "cell_type": "code",
      "source": [
        "##Program for replacing one substring by another For example - Rabbit - Replace \"bb\" by \"cc\"\n",
        "animal1=\"piggy\"\n",
        "animal2=animal1.replace(\"gg\",\"kk\")\n",
        "print(animal2)"
      ],
      "metadata": {
        "colab": {
          "base_uri": "https://localhost:8080/"
        },
        "id": "Ea9HkVyl0HX5",
        "outputId": "0e929c4b-aadc-4384-b851-d9517e3bd7f3"
      },
      "execution_count": null,
      "outputs": [
        {
          "output_type": "stream",
          "name": "stdout",
          "text": [
            "pikky\n"
          ]
        }
      ]
    },
    {
      "cell_type": "code",
      "source": [
        "##Program to Acronym generator for any user input (ex-input is Random memory access\n",
        "#then output should be RMA).Example - Random number (RN)\n",
        "string=input(\"enter the string\")\n",
        "x=string.split()\n",
        "for i in x:\n",
        "  print(i[0],end=\"\")"
      ],
      "metadata": {
        "colab": {
          "base_uri": "https://localhost:8080/"
        },
        "id": "iFnEs-8K1P-C",
        "outputId": "77828453-f771-4e7d-94e8-20f97679e013"
      },
      "execution_count": null,
      "outputs": [
        {
          "output_type": "stream",
          "name": "stdout",
          "text": [
            "enter the stringsocial stides\n",
            "ss"
          ]
        }
      ]
    },
    {
      "cell_type": "code",
      "source": [
        "##Python function that accepts a string and calculates the number of uppercaseletters and lowercase letters\n",
        "string=\"I Love my Sister in this WORLD\"\n",
        "count_1=0\n",
        "count_2=0\n",
        "for i in string:\n",
        "    if i.isupper():\n",
        "      count_1+=1\n",
        "    elif i.islower():\n",
        "     count_2+=1\n",
        "    else:\n",
        "      pass\n",
        "print(\"No.of uppercase alphabets are: \",count_1)\n",
        "print(\"No.of lowercase alphabets are: \",count_2)"
      ],
      "metadata": {
        "colab": {
          "base_uri": "https://localhost:8080/"
        },
        "id": "7SxndMRo2zXR",
        "outputId": "0833823d-c430-4ee5-fe65-0a412b9f71ee"
      },
      "execution_count": null,
      "outputs": [
        {
          "output_type": "stream",
          "name": "stdout",
          "text": [
            "No.of uppercase alphabets are:  8\n",
            "No.of lowercase alphabets are:  16\n"
          ]
        }
      ]
    },
    {
      "cell_type": "code",
      "source": [
        "##Program to count the number of strings where the string length is 2 or more and\n",
        "#the first and last character are same from a given list of strings \n",
        "Sample_List = [  \"uuv \", \"aba\",\"1996\",\"mom\",\"17\",\"nvgfrt36\"]\n",
        "count=0\n",
        "for i in Sample_List:\n",
        " if len(i)>=2:\n",
        "   if i[0]==i[len(i)-1]:\n",
        "    print(i)\n",
        " count+=1\n",
        "print(count)"
      ],
      "metadata": {
        "colab": {
          "base_uri": "https://localhost:8080/"
        },
        "id": "4KDAKvDf4ZFX",
        "outputId": "92d8a406-506c-42a3-f243-ce821be8290c"
      },
      "execution_count": null,
      "outputs": [
        {
          "output_type": "stream",
          "name": "stdout",
          "text": [
            "aba\n",
            "mom\n",
            "6\n"
          ]
        }
      ]
    }
  ]
}